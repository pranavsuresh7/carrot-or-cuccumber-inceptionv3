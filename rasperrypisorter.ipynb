{
 "cells": [
  {
   "cell_type": "code",
   "execution_count": 1,
   "metadata": {},
   "outputs": [
    {
     "name": "stderr",
     "output_type": "stream",
     "text": [
      "Using TensorFlow backend.\n",
      "/usr/lib/python3.5/importlib/_bootstrap.py:222: RuntimeWarning: compiletime version 3.4 of module 'tensorflow.python.framework.fast_tensor_util' does not match runtime version 3.5\n",
      "  return f(*args, **kwds)\n",
      "/usr/lib/python3.5/importlib/_bootstrap.py:222: RuntimeWarning: builtins.type size changed, may indicate binary incompatibility. Expected 432, got 412\n",
      "  return f(*args, **kwds)\n"
     ]
    }
   ],
   "source": [
    "import keras \n",
    "from keras.models import load_model\n",
    "from keras.applications.mobilenet import preprocess_input\n",
    "from keras.preprocessing import image "
   ]
  },
  {
   "cell_type": "code",
   "execution_count": 2,
   "metadata": {},
   "outputs": [
    {
     "name": "stderr",
     "output_type": "stream",
     "text": [
      "/usr/lib/python3.5/importlib/_bootstrap.py:222: RuntimeWarning: compiletime version 3.4 of module 'tensorflow.python.framework.fast_tensor_util' does not match runtime version 3.5\n",
      "  return f(*args, **kwds)\n",
      "/usr/lib/python3.5/importlib/_bootstrap.py:222: RuntimeWarning: builtins.type size changed, may indicate binary incompatibility. Expected 432, got 412\n",
      "  return f(*args, **kwds)\n"
     ]
    }
   ],
   "source": [
    "import tensorflow as tf\n",
    "import RPi.GPIO as GPIO\n",
    "import time\n",
    "import picamera"
   ]
  },
  {
   "cell_type": "code",
   "execution_count": 4,
   "metadata": {},
   "outputs": [],
   "source": [
    "model = load_model('/home/pi/Downloads/inceptionv3.h5')"
   ]
  },
  {
   "cell_type": "code",
   "execution_count": null,
   "metadata": {},
   "outputs": [
    {
     "name": "stdout",
     "output_type": "stream",
     "text": [
      "carrot\n",
      "do you want to continue then press one1\n"
     ]
    }
   ],
   "source": [
    "val = '1'\n",
    "carrotval = 0\n",
    "cuccumberval = 0\n",
    "while(val=='1'):\n",
    "    \n",
    "    with picamera.PiCamera() as camera:\n",
    "        camera.resolution = (800,400)\n",
    "        camera.start_preview()\n",
    "        camera.preview_fullscreen=True\n",
    "        camera.rotation = 180\n",
    "        # Camera warm-up time\n",
    "        time.sleep(2)\n",
    "        camera.capture('sort.jpg')\n",
    "        img = image.load_img('sort.jpg',target_size=(224,224))\n",
    "        x = image.img_to_array(img)\n",
    "        x = preprocess_input(x).reshape(1,224,224,3)\n",
    "        prediction = model.predict(x)\n",
    "        \n",
    "    if(prediction[0,0]>0.5):\n",
    "        \n",
    "        cuccumberval= cuccumberval+1\n",
    "        print('cuccumber',cuccumberval)\n",
    "    else:\n",
    "        GPIO.setmode(GPIO.BOARD)\n",
    "        GPIO.setup(12, GPIO.OUT)\n",
    "        p = GPIO.PWM(12, 50)\n",
    "        p.start(7.5)\n",
    "        p.ChangeDutyCycle(7.5)  # turn towards 90 degree\n",
    "        time.sleep(1) # sleep 1 second\n",
    "        p.ChangeDutyCycle(2.5)  # turn towards 0 degree\n",
    "        time.sleep(1) # sleep 1 second\n",
    "        p.stop()\n",
    "        GPIO.cleanup()\n",
    "        carrotval = carrotval+1\n",
    "        \n",
    "        print('carrot',carrotval)\n",
    "    val = input('do you want to continue then press one')\n"
   ]
  },
  {
   "cell_type": "code",
   "execution_count": 16,
   "metadata": {},
   "outputs": [],
   "source": []
  },
  {
   "cell_type": "code",
   "execution_count": null,
   "metadata": {},
   "outputs": [],
   "source": []
  }
 ],
 "metadata": {
  "kernelspec": {
   "display_name": "Python 3",
   "language": "python",
   "name": "python3"
  },
  "language_info": {
   "codemirror_mode": {
    "name": "ipython",
    "version": 3
   },
   "file_extension": ".py",
   "mimetype": "text/x-python",
   "name": "python",
   "nbconvert_exporter": "python",
   "pygments_lexer": "ipython3",
   "version": "3.5.3"
  }
 },
 "nbformat": 4,
 "nbformat_minor": 2
}
